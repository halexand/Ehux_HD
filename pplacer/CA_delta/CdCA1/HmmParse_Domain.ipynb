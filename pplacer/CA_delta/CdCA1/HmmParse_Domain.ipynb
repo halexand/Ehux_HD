{
 "cells": [
  {
   "cell_type": "markdown",
   "metadata": {},
   "source": [
    "## Goal: Parse HMM file to get the domain that was hit by the hmm search from each of the hits given an evalue/length cutoff"
   ]
  },
  {
   "cell_type": "code",
   "execution_count": 265,
   "metadata": {
    "collapsed": false
   },
   "outputs": [],
   "source": [
    "from Bio.SearchIO import HmmerIO\n",
    "from Bio import SearchIO\n",
    "from Bio import SeqIO"
   ]
  },
  {
   "cell_type": "code",
   "execution_count": 274,
   "metadata": {
    "collapsed": false
   },
   "outputs": [],
   "source": [
    "def getDomains(fileIn, eval_cut=0.001, len_cut=200):\n",
    "    #Get hmm domains hit from hmmer output. Input hmmer output file, eval cut, and length cutoff\n",
    "    #returns a list with the name of the orgs that were hit and the start/stop position int he alignment\n",
    "    outDict={}\n",
    "    ListOfHits=[]\n",
    "    for search in SearchIO.parse(fileIn, 'hmmer3-text'):\n",
    "        for hit in search:\n",
    "            evalue=hit.evalue\n",
    "            for fragment in hit:\n",
    "                qlength=len(fragment.query.seq)\n",
    "                length=len(fragment.hit.seq)\n",
    "                if (evalue < eval_cut) & (length > len_cut):\n",
    "                    listOut=[fragment.hit.id, str(fragment.hit_start), str(fragment.hit_end)]\n",
    "                    ListOfHits.append(listOut)\n",
    "                    outDict[fragment.hit.id]=hit\n",
    "    return ListOfHits,outDict"
   ]
  },
  {
   "cell_type": "code",
   "execution_count": 275,
   "metadata": {
    "collapsed": false
   },
   "outputs": [
    {
     "data": {
      "text/plain": [
       "656"
      ]
     },
     "execution_count": 275,
     "metadata": {},
     "output_type": "execute_result"
    }
   ],
   "source": [
    "#Searching for the CdCA1 region (Carbonic anhydrase conserved domain)\n",
    "Hmmer_MMETSP_CdCA1='CdCA1.hmmsearch.MMETSP'\n",
    "Hmmer_MMETSP_CdCA1_domains, Hmmer_MMETSP_CdCA1_domains_dict=getDomains(Hmmer_MMETSP_CdCA1, eval_cut=0.001, len_cut=200)\n",
    "len(Hmmer_MMETSP_CdCA1_domains)"
   ]
  },
  {
   "cell_type": "code",
   "execution_count": 266,
   "metadata": {
    "collapsed": false
   },
   "outputs": [],
   "source": [
    "#write out to file\n",
    "outFile=open(Hmmer_MMETSP_CdCA1+'.domainhits.tab', 'w')\n",
    "for line in Hmmer_MMETSP_CdCA1_domains:\n",
    "    outFile.write('\\t'.join(line))\n",
    "    outFile.write('\\n')\n",
    "outFile.close()"
   ]
  },
  {
   "cell_type": "markdown",
   "metadata": {},
   "source": [
    "There was probably some way to do all of this in python, but I was having issues. So, I wrote a bash script and used blastdbcmd. See below"
   ]
  },
  {
   "cell_type": "code",
   "execution_count": 267,
   "metadata": {
    "collapsed": true
   },
   "outputs": [],
   "source": [
    "%%bash\n",
    "bash getDomain.sh < CdCA1.hmmsearch.MMETSP.domainhits.tab > CdCA1.hmmsearch.MMETSP.domainhits.fa\n"
   ]
  },
  {
   "cell_type": "code",
   "execution_count": 352,
   "metadata": {
    "collapsed": false
   },
   "outputs": [
    {
     "name": "stdout",
     "output_type": "stream",
     "text": [
      "Query: CdCA1\n",
      "       Cadmium carbonic anhydrase repeat\n",
      "  Hit: CAMPEP_0185339264\n",
      "       /NCGR_PEP_ID=MMETSP1363-20130426|97533_1 /\n",
      " HSPs: ----  --------  ---------  ------  ---------------  ---------------------\n",
      "          #   E-value  Bit score    Span      Query range              Hit range\n",
      "       ----  --------  ---------  ------  ---------------  ---------------------\n",
      "          0   2.2e-69     243.10     266          [3:208]              [418:669]\n",
      "Query: CdCA1\n",
      "       Cadmium carbonic anhydrase repeat\n",
      "  Hit: CAMPEP_0185472658\n",
      "       /NCGR_PEP_ID=MMETSP1366-20130426|957_1 /TA\n",
      " HSPs: ----  --------  ---------  ------  ---------------  ---------------------\n",
      "          #   E-value  Bit score    Span      Query range              Hit range\n",
      "       ----  --------  ---------  ------  ---------------  ---------------------\n",
      "          0   2.5e-69     242.80     266          [3:208]              [418:669]\n",
      "Query: CdCA1\n",
      "       Cadmium carbonic anhydrase repeat\n",
      "  Hit: CAMPEP_0185345998\n",
      "       /NCGR_PEP_ID=MMETSP1364-20130426|119_1 /TA\n",
      " HSPs: ----  --------  ---------  ------  ---------------  ---------------------\n",
      "          #   E-value  Bit score    Span      Query range              Hit range\n",
      "       ----  --------  ---------  ------  ---------------  ---------------------\n",
      "          0   2.5e-69     242.80     266          [3:208]              [418:669]\n",
      "Query: CdCA1\n",
      "       Cadmium carbonic anhydrase repeat\n",
      "  Hit: CAMPEP_0185464528\n",
      "       /NCGR_PEP_ID=MMETSP1365-20130426|95765_1 /\n",
      " HSPs: ----  --------  ---------  ------  ---------------  ---------------------\n",
      "          #   E-value  Bit score    Span      Query range              Hit range\n",
      "       ----  --------  ---------  ------  ---------------  ---------------------\n",
      "          0     3e-69     242.60     266          [3:208]              [451:702]\n"
     ]
    }
   ],
   "source": [
    "#Pull out best hit from each of the species for a final alignment. \n",
    "Strains={}\n",
    "for i in SeqIO.parse('CdCA1.hmmsearch.MMETSP.domainhits.fa', 'fasta'):\n",
    "    #get the Campep id\n",
    "    ID=i.id.split(':')[0].split('|')[1]\n",
    "    range_val=i.id.split(':')[1]\n",
    "    #get the species name\n",
    "    for val in i.description.split('/'):\n",
    "        if val.startswith('ORGANISM'):\n",
    "            org=val.split('=')[1]\n",
    "            #get the hmm hit information\n",
    "            hitInfo=Hmmer_MMETSP_CdCA1_domains_dict[ID]\n",
    "            if org.startswith('\"Gephyrocapsa'):\n",
    "                print hitInfo\n",
    "\n",
    "            for frag in hitInfo:\n",
    "                frageval=frag.evalue #get the evalue for each fragment\n",
    "                fraglen=len(frag.hit.seq) #get the len for each fragment\n",
    "                fragbit=frag.bitscore #get the bitscore for each fragment\n",
    "            \n",
    "            if org in Strains:\n",
    "                #compare to the existing 'best' hit and replace if necessary\n",
    "                best=Strains[org][0]\n",
    "                besteval=best.evalue\n",
    "                bestlen=len(best.hit.seq)\n",
    "                bestbit=best.bitscore\n",
    "                if fragbit > bestbit:\n",
    "                    Strains[org]=[frag, i.id]\n",
    "            else: \n",
    "                Strains[org]=[frag, i.id]\n",
    "                \n",
    "        "
   ]
  },
  {
   "cell_type": "code",
   "execution_count": 353,
   "metadata": {
    "collapsed": false,
    "scrolled": false
   },
   "outputs": [
    {
     "name": "stdout",
     "output_type": "stream",
     "text": [
      "\"Florenciella parvula, Strain RCC1693\"  CAMPEP_0182522390 216 5.1e-83\n",
      "\"Pyramimonas obovata, Strain CCMP722\"  CAMPEP_0118956396 211 4.3e-85\n",
      "\"Scyphosphaera apsteinii, Strain RCC1455\"  CAMPEP_0119305302 209 5.7e-80\n",
      "\"Symbiodinium sp., Strain CCMP421\"  CAMPEP_0181445544 204 2.7e-28\n",
      "\"Skeletonema marinoi, Strain FE7\"  CAMPEP_0180849650 214 2.1e-98\n",
      "\"Fibrocapsa japonica\"  CAMPEP_0113935008 208 1.4e-85\n",
      "\"Cyclotella meneghiniana, Strain CCMP 338\"  CAMPEP_0172292480 207 1.9e-95\n",
      "\"Karenia brevis, Strain SP1\"  CAMPEP_0117362764 202 6.7e-13\n",
      "\"Micromonas sp., Strain RCC472\"  CAMPEP_0196634284 231 3.4e-93\n",
      "\"Isochrysis galbana, Strain CCMP1323\"  CAMPEP_0179802838 209 1.1e-82\n",
      "\"Pterosperma sp., Strain CCMP1384\"  CAMPEP_0197849724 212 8.9e-85\n",
      "\"Aureococcus anophagefferens, Strain CCMP1850\"  CAMPEP_0168898210 241 3.5e-85\n",
      "\"Leptocylindrus danicus var. danicus, Strain B650\"  CAMPEP_0116013584 207 5.9e-90\n",
      "\"Ditylum brightwellii, Strain Pop1 (SS4)\"  CAMPEP_0180931744 209 1e-103\n",
      "\"Staurosira complex sp., Strain CCMP2646\"  CAMPEP_0202480846 207 4.4e-80\n",
      "\"Skeletonema dohrnii, Strain SkelB\"  CAMPEP_0195241484 214 6.7e-97\n",
      "\"Minutocellus polymorphus, Strain CCMP3303\"  CAMPEP_0197733608 207 2.4e-84\n",
      "\"Fragilariopsis kerguelensis, Strain L26-C5\"  CAMPEP_0170811018 251 1.1e-81\n",
      "\"Pseudo-nitzschia delicatissima, Strain UNC1205\"  CAMPEP_0197262888 217 3.4e-91\n",
      "\"Pseudo-nitzschia australis, Strain 10249 10 AB\"  CAMPEP_0168170012 219 3.4e-90\n",
      "\"Genus nov. species nov., Strain RCC1024\"  CAMPEP_0119269406 205 9.8e-50\n",
      "\"Micromonas pusilla, Strain CCMP494\"  CAMPEP_0203063554 231 3.6e-93\n",
      "\"Corethron pennatum, Strain L29A3\"  CAMPEP_0194317946 225 1.5e-95\n",
      "\"Thalassiosira gravida, Strain GMp14c1\"  CAMPEP_0201637004 212 1.4e-100\n",
      "\"Calcidiscus leptoporus, Strain RCC1130\"  CAMPEP_0119400348 207 5.8e-84\n",
      "\"Skeletonema marinoi, Strain skelA\"  CAMPEP_0184905058 214 3.7e-98\n",
      "\"Minutocellus polymorphus, Strain NH13\"  CAMPEP_0181025766 207 5.9e-84\n",
      "\"Azadinium spinosum, Strain 3D9\"  CAMPEP_0180676054 215 4.6e-92\n",
      "\"Thalassionema frauenfeldii, Strain CCMP 1798\"  CAMPEP_0178918656 208 2.1e-85\n",
      "\"Symbiodinium sp., Strain Mp\"  CAMPEP_0169737380 205 4.5e-30\n",
      "\"Aulacoseira subarctica , Strain CCAP 1002 CAMPEP_0172421568 208 3.4e-80\n",
      "\"Pseudo-nitzschia arenysensis, Strain B593\"  CAMPEP_0116114490 209 9.6e-92\n",
      "\"\"  CAMPEP_0117573378 207 3.9e-84\n",
      "\"Rhodomonas sp., Strain CCMP768\"  CAMPEP_0196717768 206 1.2e-78\n",
      "\"Emiliania huxleyi, Strain 374\"  CAMPEP_0196511218 245 3.3e-70\n",
      "\"Isochrysis sp., Strain CCMP1324\"  CAMPEP_0185090134 214 3.9e-83\n",
      "\"Extubocellulus spinifer, Strain CCMP396\"  CAMPEP_0178499206 207 3.3e-86\n",
      "\"Nitzschia sp.\"  CAMPEP_0113451712 206 6e-81\n",
      "\"Karenia brevis, Strain CCMP2229\"  CAMPEP_0174209004 207 2.9e-87\n",
      "\"Rhizochromulina marina cf, Strain CCMP1243\"  CAMPEP_0118984846 207 1.9e-100\n",
      "\"Micromonas sp, Strain CS-222\"  CAMPEP_0202929668 231 1.6e-89\n",
      "\"Micromonas sp., Strain CCMP2099\"  CAMPEP_0117640364 227 3.5e-81\n",
      "\"Tetraselmis striata, Strain LANL1001\"  CAMPEP_0183971672 206 2.6e-85\n",
      "\"Pseudo-nitzschia delicatissima, Strain B596\"  CAMPEP_0116077484 216 6.3e-92\n",
      "\"Asterionellopsis glacialis, Strain CCMP1581\"  CAMPEP_0197157532 206 4.1e-87\n",
      "\"Helicotheca tamensis, Strain CCMP826\"  CAMPEP_0185723230 208 8.5e-87\n",
      "\"Triceratium dubium, Strain CCMP147\"  CAMPEP_0197464448 215 5.9e-99\n",
      "\"Micromonas sp, Strain CCMP1646\"  CAMPEP_0181141474 216 1.6e-86\n",
      "\"Pelagococcus subviridis, Strain CCMP1429\"  CAMPEP_0195664924 210 9.9e-46\n",
      "\"Mantoniella antarctica, Strain SL-175\"  CAMPEP_0181380708 206 1.9e-85\n",
      "\"Thalassiosira rotula, Strain CCMP3096\"  CAMPEP_0184760802 213 9e-97\n",
      "\"Bathycoccus prasinos, Strain CCMP1898\"  CAMPEP_0197169780 207 9.4e-86\n",
      "\"Minutocellus polymorphus, Strain RCC2270\"  CAMPEP_0185803574 206 4.2e-84\n",
      "\"Emiliania huxleyi, Strain CCMP370\"  CAMPEP_0182172508 245 2.5e-70\n",
      "\"Chrysochromulina brevifilum, Strain UTEX LB 985\"  CAMPEP_0174754306 214 5.9e-75\n",
      "\"Pseudo-nitzschia fraudulenta, Strain WWA7\"  CAMPEP_0201215230 215 2.3e-91\n",
      "\"Prasinoderma singularis, Strain RCC927\"  CAMPEP_0119176894 207 1.6e-89\n",
      "\"Chrysochromulina rotalis, Strain UIO044\"  CAMPEP_0115839704 215 2.3e-78\n",
      "\"Ditylum brightwellii, Strain GSO105\"  CAMPEP_0185662056 207 3.8e-96\n",
      "\"Phaeocystis antarctica, Strain CCMP1374\"  CAMPEP_0198158072 212 7.8e-64\n",
      "\"Coscinodiscus wailesii, Strain CCMP2513\"  CAMPEP_0172486758 206 1.9e-85\n",
      "\"Chrysochromulina polylepis, Strain UIO037\"  CAMPEP_0115780052 207 2.9e-85\n",
      "\"Alexandrium tamarense, Strain CCMP1771\"  CAMPEP_0116379042 229 6.5e-94\n",
      "\"Coccolithus pelagicus ssp braarudi, Strain PLY182g\"  CAMPEP_0183378412 234 9.3e-81\n",
      "\"Chaetoceros neogracile, Strain CCMP1317\"  CAMPEP_0195375824 207 1.2e-85\n",
      "\"Hemiselmis andersenii, Strain CCMP439\"  CAMPEP_0172017284 207 7e-80\n",
      "\"Amphora coffeaeformis, Strain CCMP127\"  CAMPEP_0170711048 206 1.4e-84\n",
      "\"Favella ehrenbergii, Strain Fehren 1\"  CAMPEP_0170469426 214 1.6e-82\n",
      "\"Undescribed Undescribed, Strain NY07348D\"  CAMPEP_0205082230 207 1.2e-86\n",
      "\"Asterionellopsis glacialis, Strain CCMP134\"  CAMPEP_0195336540 207 3.8e-87\n",
      "\"Scrippsiella trochoidea, Strain CCMP3099\"  CAMPEP_0115202412 210 8.6e-95\n",
      "\"Gephyrocapsa oceanica, Strain RCC1303\"  CAMPEP_0185339264 266 2.2e-69\n",
      "\"Skeletonema marinoi, Strain SM1012Hels-07\"  CAMPEP_0115942878 214 3.8e-99\n",
      "\"Ditylum brightwellii, Strain GSO103\"  CAMPEP_0204687438 207 3.8e-96\n",
      "\"Chaetoceros dichaeta, Strain CCMP1751\"  CAMPEP_0198256760 207 2.6e-81\n",
      "\"Alexandrium monilatum, Strain CCMP3105\"  CAMPEP_0175506372 202 1.9e-27\n",
      "\"Phaeocystis antarctica, Strain Caron Lab Isolate\"  CAMPEP_0172978042 212 3.2e-62\n",
      "\"Thalassiosira miniscula, Strain CCMP1093\"  CAMPEP_0184405210 210 9.9e-103\n",
      "\"Thalassiosira weissflogii, Strain CCMP1336\"  CAMPEP_0171415230 207 2.8e-104\n",
      "\"Rhizosolenia setigera, Strain CCMP 1694\"  CAMPEP_0178940002 207 1.5e-91\n",
      "\"Micromonas sp., Strain RCC451\"  CAMPEP_0202998544 241 3.5e-86\n",
      "\"Stephanopyxis turris, Strain CCMP 815\"  CAMPEP_0195507104 207 3.1e-90\n",
      "\"non described non described, Strain CCMP2097\"  CAMPEP_0184166558 204 2.2e-19\n",
      "\"Dinophysis acuminata, Strain DAEP01\"  CAMPEP_0179225460 207 6.7e-84\n",
      "\"Amphiprora sp., Strain CCMP467\"  CAMPEP_0168768686 219 8.3e-92\n",
      "\"Thalassiothrix antarctica, Strain L6-D1\"  CAMPEP_0194182646 207 8.3e-85\n",
      "\"Rhodomonas abbreviata, Strain Caron Lab Isolate\"  CAMPEP_0181300774 206 2e-80\n",
      "\"Prasinoderma coloniale, Strain CCMP1413\"  CAMPEP_0195564316 207 1.7e-87\n",
      "\"Leptocylindrus danicus var. apora, Strain B651\"  CAMPEP_0116054588 207 1.7e-90\n",
      "\"Leptocylindrus danicus, Strain CCMP1856\"  CAMPEP_0196825682 206 1.7e-87\n",
      "\"Pelagomonas calceolata, Strain RCC969\"  CAMPEP_0119242594 234 5.4e-71\n",
      "\"Alexandrium catenella, Strain OF101\"  CAMPEP_0171167660 201 1e-28\n",
      "\"Thalassiosira oceanica, Strain CCMP1005\"  CAMPEP_0202216764 212 1.3e-107\n",
      "\"Pseudo-nitzschia heimii, Strain UNC1101\"  CAMPEP_0197185078 223 4.5e-93\n",
      "\"Hemiselmis andersenii, Strain CCMP1180\"  CAMPEP_0169477416 207 1.1e-77\n",
      "\"Micromonas pusilla, Strain CCMP1723 \"  CAMPEP_0203057240 230 2.4e-88\n",
      "\"Micromonas pusilla, Strain CCAC1681\"  CAMPEP_0203003952 216 5.9e-87\n",
      "\"Amphidinium carterae, Strain CCMP1314\"  CAMPEP_0176610770 208 1.7e-86\n",
      "\"Skeletonema grethea, Strain CCMP 1804\"  CAMPEP_0201690232 210 2.9e-98\n",
      "\"Ditylum brightwellii, Strain GSO104\"  CAMPEP_0204760712 207 1e-96\n",
      "\"Emiliania huxleyi, Strain PLY M219\"  CAMPEP_0181861460 246 3.4e-70\n",
      "\"non described non described, Strain CCMP2098\"  CAMPEP_0171866136 214 1.7e-84\n",
      "\"Prymnesium parvum\"  CAMPEP_0113295680 208 9.4e-82\n",
      "\"Symbiodinium sp., Strain C1\"  CAMPEP_0202515794 206 2.4e-20\n",
      "\"Dactyliosolen fragilissimus\"  CAMPEP_0184858866 209 1.7e-84\n",
      "\"Asterionellopsis glacialis\"  CAMPEP_0184897908 208 1.6e-85\n",
      "\"Isochrysis galbana, Strain CCMP 1323\"  CAMPEP_0183613658 219 1.4e-75\n",
      "\"Hemiselmis rufescens, Strain PCC563\"  CAMPEP_0173470242 207 1.4e-79\n",
      "\" , Strain NY0313808BC1\"  CAMPEP_0203777590 207 1e-86\n",
      "\"Skeletonema menzelii, Strain CCMP793\"  CAMPEP_0183647304 210 8.6e-96\n",
      "\"Pseudo-nitzschia pungens, Strain cf. pungens\"  CAMPEP_0172393468 219 6.2e-91\n",
      "\"Pyrodinium bahamense, Strain pbaha01\"  CAMPEP_0179016834 210 1.2e-85\n",
      "\"Pseudo-nitzschia pungens, Strain cf. cingulata\"  CAMPEP_0172379864 219 6.3e-90\n",
      "\"Thalassiosira antarctica, Strain CCMP982\"  CAMPEP_0201905666 210 5.1e-102\n",
      "\"Karlodinium micrum, Strain CCMP2283\"  CAMPEP_0169350606 201 8.9e-74\n",
      "\"Hemiselmis andersenii, Strain CCMP644\"  CAMPEP_0114120602 207 6.3e-80\n",
      "\"Thalassionema nitzschioides, Strain L26-B\"  CAMPEP_0194248298 206 1.6e-84\n",
      "\"Mantoniella sp, Strain CCMP1436\"  CAMPEP_0198689456 206 1.9e-85\n",
      "\"Odontella\"  CAMPEP_0113555928 207 2.6e-86\n",
      "\"Thalassiosira sp., Strain NH16\"  CAMPEP_0181084066 212 3.1e-101\n",
      "\"Licmophora paradoxa, Strain CCMP2313\"  CAMPEP_0202474304 207 5.2e-87\n",
      "\"Attheya septentrionalis, Strain CCMP2084\"  CAMPEP_0198305594 205 4.6e-74\n",
      "\"Skeletonema marinoi, Strain UNC1201\"  CAMPEP_0197228382 214 1.3e-97\n",
      "\"Proboscia inermis, Strain CCAP1064 CAMPEP_0171292846 207 7.1e-86\n",
      "\"Sorites sp.\"  CAMPEP_0114672072 202 3.5e-27\n",
      "\"Glenodinium foliaceum, Strain CCAP 1116 CAMPEP_0168141602 206 4.4e-84\n",
      "\"Proboscia alata, Strain PI-D3\"  CAMPEP_0194354864 210 8.9e-101\n",
      "\"Thalassiosira weissflogii, Strain CCMP1010\"  CAMPEP_0201745858 207 5.5e-104\n",
      "\"Ditylum brightwellii, Strain Pop2 (SS10)\"  CAMPEP_0180993824 209 1e-103\n",
      "\"Florenciella sp., Strain RCC1587\"  CAMPEP_0182563774 218 9.5e-83\n",
      "\"Thalassiosira rotula, Strain GSO102\"  CAMPEP_0196158558 211 4.7e-101\n",
      "\"Gambierdiscus australes, Strain CAWD 149\"  CAMPEP_0171065454 208 1.5e-29\n",
      "\"Micromonas sp., Strain NEPCC29\"  CAMPEP_0197091778 213 1.3e-26\n",
      "\"Genus nov. species nov., Strain RCC2339\"  CAMPEP_0119118446 211 5.3e-86\n",
      "\"Chrysochromulina polylepis, Strain CCMP1757\"  CAMPEP_0183115372 207 3.3e-85\n",
      "\"Prymnesium parvum, Strain Texoma1\"  CAMPEP_0195588246 208 3.4e-81\n",
      "\"Hemiselmis tepida, Strain CCMP443\"  CAMPEP_0174927558 207 1.6e-77\n",
      "\"Isochrysis sp, Strain CCMP1244\"  CAMPEP_0202736504 248 1.6e-71\n",
      "\"Pelagomonas calceolata , Strain CCMP1756\"  CAMPEP_0195874928 234 8e-73\n",
      "\"Bathycoccus prasinos, Strain RCC716\"  CAMPEP_0198478102 208 2.5e-87\n",
      "\"Cylindrotheca closterium\"  CAMPEP_0113615412 209 1.4e-92\n",
      "\"Pycnococcus provasolii, Strain RCC733\"  CAMPEP_0198711048 207 7.7e-84\n",
      "\"Emiliania huxleyi, Strain 379\"  CAMPEP_0196344168 248 3.8e-72\n",
      "\"Noctiluca scintillans\"  CAMPEP_0194549618 205 6e-24\n",
      "\"Symbiodinium sp., Strain CCMP2430\"  CAMPEP_0181734346 203 2.5e-29\n",
      "\"Hemiselmis andersenii, Strain CCMP441\"  CAMPEP_0172080770 204 1.1e-79\n",
      "\"Amphiprora paludosa, Strain CCMP125\"  CAMPEP_0172456070 215 4.8e-96\n",
      "\"Pycnococcus provasolii, Strain RCC2336\"  CAMPEP_0119191110 210 2.1e-78\n",
      "\"Phaeocystis Sp, Strain CCMP2710\"  CAMPEP_0118812194 217 3.2e-73\n",
      "\"Fragilariopsis kerguelensis, Strain L2-C3\"  CAMPEP_0196056042 254 5.5e-82\n"
     ]
    }
   ],
   "source": [
    "passSeqsList=[]\n",
    "for x in Strains.keys():\n",
    "    frag=Strains[x][0]\n",
    "    print x,frag.hit.id, len(frag.hit.seq), frag.evalue\n",
    "    passSeqsList.append(Strains[x][1])"
   ]
  },
  {
   "cell_type": "code",
   "execution_count": 360,
   "metadata": {
    "collapsed": false
   },
   "outputs": [
    {
     "data": {
      "text/plain": [
       "150"
      ]
     },
     "execution_count": 360,
     "metadata": {},
     "output_type": "execute_result"
    }
   ],
   "source": [
    "passSeqs=[]\n",
    "for seq in SeqIO.parse('CdCA1.hmmsearch.MMETSP.domainhits.fa', 'fasta'):\n",
    "    if seq.id in passSeqsList:\n",
    "        passSeqs.append(seq)\n",
    "SeqIO.write(passSeqs, 'CdCA1.hmm.Besthits.fa', 'fasta')"
   ]
  },
  {
   "cell_type": "code",
   "execution_count": 361,
   "metadata": {
    "collapsed": false
   },
   "outputs": [],
   "source": [
    "#Searching for the CdCA1 region (Carbonic anhydrase conserved domain)\n",
    "Hmmer_Etrans='CdCA1.hmmsearch.EmihuTrans'\n",
    "Hmmer_Etrans_domains, Hmmer_Etrans_domains_dict=getDomains(Hmmer_Etrans, eval_cut=0.001, len_cut=200)\n",
    "len(Hmmer_Etrans_domains)\n",
    "outFile=open(Hmmer_Etrans+'.domainhits.tab', 'w')\n",
    "for line in Hmmer_Etrans_domains:\n",
    "    outFile.write('\\t'.join(line))\n",
    "    outFile.write('\\n')\n",
    "outFile.close()"
   ]
  },
  {
   "cell_type": "code",
   "execution_count": 363,
   "metadata": {
    "collapsed": false
   },
   "outputs": [],
   "source": [
    "%%bash\n",
    "bash getDomain.sh < CdCA1.hmmsearch.EmihuTrans.domainhits.tab > CdCA1.hmmsearch.EmihuTrans.domainhits.fa\n"
   ]
  },
  {
   "cell_type": "code",
   "execution_count": null,
   "metadata": {
    "collapsed": true
   },
   "outputs": [],
   "source": []
  }
 ],
 "metadata": {
  "kernelspec": {
   "display_name": "Python 2",
   "language": "python",
   "name": "python2"
  },
  "language_info": {
   "codemirror_mode": {
    "name": "ipython",
    "version": 2
   },
   "file_extension": ".py",
   "mimetype": "text/x-python",
   "name": "python",
   "nbconvert_exporter": "python",
   "pygments_lexer": "ipython2",
   "version": "2.7.10"
  }
 },
 "nbformat": 4,
 "nbformat_minor": 0
}
