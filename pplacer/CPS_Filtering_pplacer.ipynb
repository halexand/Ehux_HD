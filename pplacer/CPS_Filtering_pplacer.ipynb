{
 "cells": [
  {
   "cell_type": "code",
   "execution_count": 36,
   "metadata": {
    "collapsed": true
   },
   "outputs": [],
   "source": [
    "from Bio import SeqIO\n",
    "import re\n",
    "import string"
   ]
  },
  {
   "cell_type": "code",
   "execution_count": 66,
   "metadata": {
    "collapsed": false
   },
   "outputs": [],
   "source": [
    "#fix the sequence name for raxml. annoying... \n",
    "outfile=\"CPS.Uniq.aa.hits.fa.LongerThan1400\"+'.renamed'\n",
    "out=open(outfile, 'w')\n",
    "for handle in SeqIO.parse(open(\"CPS.Uniq.aa.hits.fa.LongerThan1400\"), 'fasta'):\n",
    "    h=handle.description.split('/')\n",
    "    idd=handle.id\n",
    "    if h[0].startswith('jgi'):\n",
    "        pass\n",
    "    else: \n",
    "        for entry in h:\n",
    "            if entry.startswith('ORGANISM='):\n",
    "#                 print re.sub('[:punct:]', '',entry.strip())\n",
    "                name=entry.strip().translate(None, string.punctuation).replace(' ','_')[8:]\n",
    "        outHandle=idd+'|'+name\n",
    "        handle.description=''\n",
    "        handle.id=outHandle\n",
    "    SeqIO.write(handle, out, 'fasta')\n",
    "out.close()"
   ]
  },
  {
   "cell_type": "code",
   "execution_count": null,
   "metadata": {
    "collapsed": true
   },
   "outputs": [],
   "source": []
  }
 ],
 "metadata": {
  "kernelspec": {
   "display_name": "Python 2",
   "language": "python",
   "name": "python2"
  },
  "language_info": {
   "codemirror_mode": {
    "name": "ipython",
    "version": 2
   },
   "file_extension": ".py",
   "mimetype": "text/x-python",
   "name": "python",
   "nbconvert_exporter": "python",
   "pygments_lexer": "ipython2",
   "version": "2.7.10"
  }
 },
 "nbformat": 4,
 "nbformat_minor": 0
}
