{
 "cells": [
  {
   "cell_type": "code",
   "execution_count": null,
   "metadata": {
    "collapsed": true
   },
   "outputs": [],
   "source": [
    "#Running MANTA for HD Data\n",
    "#setwd(\"Users/harrietalexander/Dropbox/HD_PaperDraft/KEGG_Analysis/Manta\")\n",
    "#Import counts; note: if you don't have a header for the column with gene names it will automatically make that the row name\n",
    "###Experiment 1\n",
    "library(manta)\n",
    "cts.path=\"~/Dropbox (MIT)/HD_PaperDraft/Manta/HD.manta.counts.E1\"\n",
    "cts<-read.delim(cts.path)\n",
    "samples <- makeSampleDF(cts)\n",
    "obj.simple <- manta(counts= cts, samples = samples)\n",
    "print(obj.simple)\n",
    "\n",
    "#Import annotations\n",
    "cts.annot.path=\"~/Dropbox (MIT)/HD_PaperDraft/Manta/HD.manta.annot.E1\"\n",
    "cts.annot <- read.delim(cts.annot.path, stringsAsFactors=FALSE)\n",
    "\n",
    "obj <- counts2manta(cts, annotation=cts.annot,\n",
    "                    a.merge.clmn='query_seq', agg.clmn='kid', meta.clmns=c('Family','genus_sp'),\n",
    "                    gene.clmns=c('kid','pathway'))\n",
    "\n",
    "conditions <- caroline::nv(factor(x=1:2, labels=c('Z1','E1.X')),c('ref','obs'))\n",
    "\n",
    "#CompbiasPlot\n",
    "compbiasPlot(obj, pair=conditions, meta.lev='genus_sp', meta.lev.lim=3)\n",
    "\n",
    "obj <- calcNormFactors(obj)\n",
    "obj <- estimateCommonDisp(obj)\n",
    "obj <- estimateGLMCommonDisp(obj, method=\"deviance\", robust=TRUE , subset=NULL)\n",
    "obj$nr <- nf2nr(x=obj, pair=conditions)\n",
    "test <- exactTest(obj)\n",
    "pcutoff=0.05\n",
    "DE=test[test$table$PValue <= 0.05]\n",
    "NDE=test[test$table$PValue > 0.05]\n",
    "DEGenes=obj[DE$genes$kid]\n",
    "NDEGenes=obj[NDE$genes$kid]\n",
    "\n",
    "out <- outGenes(test) \n",
    "pal=c(\"#253494\",\"#41C5AE\",\"#C7E953\")\n",
    "palette(pal)\n",
    "EnergyMetabolism<-c(\"Oxidative phosphorylation \",\"Photosynthesis \",\n",
    "                    \"Photosynthesis - antenna proteins \",\n",
    "                    \"Carbon fixation in photosynthetic organisms \",\n",
    "                    \"Carbon fixation pathways in prokaryotes \",\n",
    "                    \"Nitrogen metabolism \",\"Sulfur metabolism \",\n",
    "                    \"Methane metabolism \")\n",
    "DE_Genes_EnergyMetabolism<-DEGenes[unique(grep(paste(EnergyMetabolism, collapse=\"|\"), \n",
    "                                               DEGenes$genes$pathway))]\n",
    "\n",
    "# DE_Genes_Other<-DEGenes[!match(DEGenes$genes$kid, DE_Genes_EnergyMetabolism$genes$kid)]\n",
    "plot(NDEGenes, main='E1: Response to DSW Ammendment\\nStation ALOHA', \n",
    "     meta.lev='genus_sp', pair=conditions, lgd.pos='bottomright', \n",
    "     alpha=test,border=\"#E6E6E6\", xlim=c(-1, 18), ylim=c(-8, 8))\n",
    "par(new='True')\n",
    "plot(DEGenes, meta.lev='genus_sp', pair=conditions, lgd.pos='bottomright', \n",
    "     alpha=test,border=\"#000000\", xlim=c(-1, 18), ylim=c(-8, 8))\n",
    "par(new='True')\n",
    "\n",
    "plot(DE_Genes_EnergyMetabolism, \n",
    "     meta.lev='genus_sp', pair=conditions, lgd.pos='off', \n",
    "     alpha=test, xlim=c(-1, 18), ylim=c(-8, 8), lwd=12, col=\"#D66127\")\n",
    "par(new='False')\n",
    "\n",
    "# cts.annot.path\n",
    "# cts.annot<-read.delim(\"test\", stringsAsFactors=FALSE)\n",
    "# #Create the MANTA object\n",
    "# obj <- counts2manta(cts, annotation=cts.annot, a.merge.clmn='query_seq', agg.clmn='kid', meta.clmns=c('gs','Family'),gene.clmns=c('kid','pathway'))\n"
   ]
  },
  {
   "cell_type": "code",
   "execution_count": null,
   "metadata": {
    "collapsed": true
   },
   "outputs": [],
   "source": [
    "# query_seq       what_def        kid     pathway Family  genus_sp\n",
    "# Dia_4470        pre-mRNA-splicing factor SPF27  K12861  Spliceosome     Diatom  Diatom\n",
    "# Dia_4471        pre-mRNA-splicing factor SYF1   K12867  Spliceosome     Diatom  Diatom\n",
    "\n",
    "\n",
    "# Z1      E1-X\n",
    "# Dia_1   22      17\n"
   ]
  },
  {
   "cell_type": "code",
   "execution_count": 9,
   "metadata": {
    "collapsed": false
   },
   "outputs": [
    {
     "name": "stdout",
     "output_type": "stream",
     "text": [
      "\n",
      "The downloaded binary packages are in\n",
      "\t/var/folders/34/6y6f_8yj781_p1lrp0ls73200000gn/T//RtmpJJbT2g/downloaded_packages\n"
     ]
    }
   ],
   "source": [
    "install.packages(\"caroline\", repos = \"http://cran.us.r-project.org\")"
   ]
  },
  {
   "cell_type": "code",
   "execution_count": 15,
   "metadata": {
    "collapsed": false
   },
   "outputs": [
    {
     "name": "stderr",
     "output_type": "stream",
     "text": [
      "Bioconductor version 3.1 (BiocInstaller 1.18.4), ?biocLite for help\n",
      "BioC_mirror: http://bioconductor.org\n",
      "Using Bioconductor version 3.1 (BiocInstaller 1.18.4), R version 3.2.1.\n",
      "Installing package(s) ‘manta’\n",
      "also installing the dependencies ‘colorspace’, ‘plyr’, ‘reshape2’, ‘RColorBrewer’, ‘dichromat’, ‘munsell’, ‘labeling’, ‘Formula’, ‘ggplot2’, ‘proto’, ‘scales’, ‘latticeExtra’, ‘acepack’, ‘gtable’, ‘gridExtra’, ‘Hmisc’\n",
      "\n"
     ]
    },
    {
     "name": "stdout",
     "output_type": "stream",
     "text": [
      "\n",
      "The downloaded binary packages are in\n",
      "\t/var/folders/34/6y6f_8yj781_p1lrp0ls73200000gn/T//RtmpJJbT2g/downloaded_packages\n"
     ]
    },
    {
     "name": "stderr",
     "output_type": "stream",
     "text": [
      "Old packages: 'BiocParallel', 'Biostrings', 'boot', 'class', 'cluster',\n",
      "  'codetools', 'curl', 'devtools', 'evaluate', 'foreign', 'GenomeInfoDb',\n",
      "  'GenomicFeatures', 'GenomicRanges', 'git2r', 'jsonlite', 'KernSmooth',\n",
      "  'lattice', 'MASS', 'Matrix', 'mgcv', 'mime', 'nlme', 'nnet', 'R6', 'Rcpp',\n",
      "  'rpart', 'rtracklayer', 'S4Vectors', 'spatial', 'survival', 'xml2'\n"
     ]
    }
   ],
   "source": [
    "source(\"http://bioconductor.org/biocLite.R\")\n",
    "biocLite('manta')"
   ]
  },
  {
   "cell_type": "code",
   "execution_count": 16,
   "metadata": {
    "collapsed": false
   },
   "outputs": [
    {
     "name": "stderr",
     "output_type": "stream",
     "text": [
      "Loading required package: edgeR\n",
      "Loading required package: limma\n"
     ]
    }
   ],
   "source": [
    "library(manta)"
   ]
  },
  {
   "cell_type": "code",
   "execution_count": null,
   "metadata": {
    "collapsed": true
   },
   "outputs": [],
   "source": []
  }
 ],
 "metadata": {
  "kernelspec": {
   "display_name": "R",
   "language": "R",
   "name": "ir"
  },
  "language_info": {
   "codemirror_mode": "r",
   "file_extension": ".r",
   "mimetype": "text/x-r-source",
   "name": "R",
   "pygments_lexer": "r",
   "version": "3.2.1"
  }
 },
 "nbformat": 4,
 "nbformat_minor": 0
}
